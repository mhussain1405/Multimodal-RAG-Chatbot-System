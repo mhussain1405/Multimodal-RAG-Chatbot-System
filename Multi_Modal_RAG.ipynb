{
  "nbformat": 4,
  "nbformat_minor": 0,
  "metadata": {
    "colab": {
      "provenance": [],
      "gpuType": "T4"
    },
    "kernelspec": {
      "name": "python3",
      "display_name": "Python 3"
    },
    "language_info": {
      "name": "python"
    },
    "accelerator": "GPU"
  },
  "cells": [
    {
      "cell_type": "markdown",
      "source": [
        "# Upload PDF and OCR processing"
      ],
      "metadata": {
        "id": "dIMIoS1fkXRe"
      }
    },
    {
      "cell_type": "code",
      "source": [
        "from google.colab import files\n",
        "uploaded = files.upload()  # 📂 Upload multiple PDFs here\n",
        "\n",
        "import logging\n",
        "logging.getLogger('ppocr').setLevel(logging.ERROR)\n",
        "\n",
        "import fitz  # PyMuPDF\n",
        "from pdf2image import convert_from_path\n",
        "from paddleocr import PaddleOCR\n",
        "import os\n",
        "import json\n",
        "import cv2\n",
        "import numpy as np\n",
        "import re\n",
        "from fuzzywuzzy import fuzz\n",
        "\n",
        "ocr = PaddleOCR(use_angle_cls=True, lang='en')\n",
        "output_data = []\n",
        "\n",
        "def clean_text_advanced(text):\n",
        "    text = text.replace(\"\\n\", \" \")\n",
        "    text = re.sub(r\"[^\\w\\s]\", \"\", text)\n",
        "    return \" \".join(text.split()).lower()\n",
        "\n",
        "def chunk_text(text, max_words=70, overlap=20):\n",
        "    words = text.split()\n",
        "    chunks = []\n",
        "    i = 0\n",
        "    while i < len(words):\n",
        "        chunk = words[i:i + max_words]\n",
        "        chunks.append(' '.join(chunk))\n",
        "        i += max_words - overlap\n",
        "    return chunks\n",
        "\n",
        "def preprocess_image(image):\n",
        "    img = np.array(image)\n",
        "    img = cv2.cvtColor(img, cv2.COLOR_RGB2BGR)\n",
        "    gray = cv2.cvtColor(img, cv2.COLOR_BGR2GRAY)\n",
        "    if gray.shape[0] < 1000 or gray.shape[1] < 1000:\n",
        "        gray = cv2.resize(gray, (int(gray.shape[1] * 1.5), int(gray.shape[0] * 1.5)), interpolation=cv2.INTER_CUBIC)\n",
        "    sharp = cv2.filter2D(gray, -1, np.array([[0, -1, 0], [-1, 5, -1], [0, -1, 0]]))\n",
        "    denoised = cv2.fastNlMeansDenoising(sharp, None, h=10)\n",
        "    return cv2.adaptiveThreshold(denoised, 255, cv2.ADAPTIVE_THRESH_GAUSSIAN_C, cv2.THRESH_BINARY, 31, 10)\n",
        "\n",
        "def should_save_ocr(ocr_text, native_text, fuzzy_thresh=90, length_ratio_thresh=1.2):\n",
        "    ocr_clean = clean_text_advanced(ocr_text)\n",
        "    native_clean = clean_text_advanced(native_text)\n",
        "    score = fuzz.token_set_ratio(native_clean, ocr_clean)\n",
        "    length_ratio = len(ocr_clean) / max(1, len(native_clean))\n",
        "    return not (score >= fuzzy_thresh and length_ratio < length_ratio_thresh)\n",
        "\n",
        "# 🔁 Process each uploaded PDF\n",
        "for pdf_filename in uploaded.keys():\n",
        "    print(f\"\\n📄 Processing PDF: {pdf_filename}\")\n",
        "    doc = fitz.open(pdf_filename)\n",
        "    pages_images = convert_from_path(pdf_filename, dpi=300)\n",
        "\n",
        "    for i, img in enumerate(pages_images):\n",
        "        img.save(f\"page_{i + 1}_{os.path.basename(pdf_filename)}.png\")  # 🖼 Save per-pdf images separately\n",
        "\n",
        "    for page_number in range(len(doc)):\n",
        "        print(f\"   📃 Page {page_number + 1}\")\n",
        "        page = doc[page_number]\n",
        "        raw_text = page.get_text()\n",
        "\n",
        "        if raw_text.strip():\n",
        "            chunks = chunk_text(raw_text, max_words=70, overlap=20)\n",
        "            for i, chunk in enumerate(chunks):\n",
        "                output_data.append({\n",
        "                    \"type\": \"text\",\n",
        "                    \"source\": pdf_filename,\n",
        "                    \"section\": f\"Page {page_number + 1}, Chunk {i + 1}\",\n",
        "                    \"content\": chunk\n",
        "                })\n",
        "\n",
        "        try:\n",
        "            image = preprocess_image(pages_images[page_number])\n",
        "            result = ocr.ocr(image, cls=True)\n",
        "            flat_results = [line for block in result for line in block]\n",
        "            filtered_lines = [line[1][0].strip() for line in flat_results if line[1][0].strip()]\n",
        "            full_ocr_text = \" \".join(filtered_lines).strip()\n",
        "\n",
        "            if len(full_ocr_text.split()) >= 10 and should_save_ocr(full_ocr_text, raw_text):\n",
        "                chunks = chunk_text(full_ocr_text, max_words=70, overlap=20)\n",
        "                for i, chunk in enumerate(chunks):\n",
        "                    output_data.append({\n",
        "                        \"type\": \"image\",\n",
        "                        \"source\": pdf_filename,\n",
        "                        \"section\": f\"Page {page_number + 1}, OCR Chunk {i + 1}\",\n",
        "                        \"content\": chunk\n",
        "                    })\n",
        "\n",
        "        except Exception as e:\n",
        "            print(f\"⚠️ OCR failed on Page {page_number + 1}: {e}\")\n",
        "\n",
        "# 💾 Save all chunked data from all PDFs\n",
        "with open(\"parsed_output_chunked.json\", 'w', encoding='utf-8') as f:\n",
        "    json.dump(output_data, f, indent=2, ensure_ascii=False)\n",
        "\n",
        "print(\"\\n✅ All PDFs processed. Combined chunked data saved.\")\n",
        "files.download(\"parsed_output_chunked.json\")"
      ],
      "metadata": {
        "colab": {
          "base_uri": "https://localhost:8080/",
          "height": 1000
        },
        "id": "z5-EA2XD7bBq",
        "outputId": "05480862-236f-4d44-f6f7-6d4e18614fbd"
      },
      "execution_count": 6,
      "outputs": [
        {
          "output_type": "display_data",
          "data": {
            "text/plain": [
              "<IPython.core.display.HTML object>"
            ],
            "text/html": [
              "\n",
              "     <input type=\"file\" id=\"files-171bdbfc-f936-4771-a189-ca6403be7d84\" name=\"files[]\" multiple disabled\n",
              "        style=\"border:none\" />\n",
              "     <output id=\"result-171bdbfc-f936-4771-a189-ca6403be7d84\">\n",
              "      Upload widget is only available when the cell has been executed in the\n",
              "      current browser session. Please rerun this cell to enable.\n",
              "      </output>\n",
              "      <script>// Copyright 2017 Google LLC\n",
              "//\n",
              "// Licensed under the Apache License, Version 2.0 (the \"License\");\n",
              "// you may not use this file except in compliance with the License.\n",
              "// You may obtain a copy of the License at\n",
              "//\n",
              "//      http://www.apache.org/licenses/LICENSE-2.0\n",
              "//\n",
              "// Unless required by applicable law or agreed to in writing, software\n",
              "// distributed under the License is distributed on an \"AS IS\" BASIS,\n",
              "// WITHOUT WARRANTIES OR CONDITIONS OF ANY KIND, either express or implied.\n",
              "// See the License for the specific language governing permissions and\n",
              "// limitations under the License.\n",
              "\n",
              "/**\n",
              " * @fileoverview Helpers for google.colab Python module.\n",
              " */\n",
              "(function(scope) {\n",
              "function span(text, styleAttributes = {}) {\n",
              "  const element = document.createElement('span');\n",
              "  element.textContent = text;\n",
              "  for (const key of Object.keys(styleAttributes)) {\n",
              "    element.style[key] = styleAttributes[key];\n",
              "  }\n",
              "  return element;\n",
              "}\n",
              "\n",
              "// Max number of bytes which will be uploaded at a time.\n",
              "const MAX_PAYLOAD_SIZE = 100 * 1024;\n",
              "\n",
              "function _uploadFiles(inputId, outputId) {\n",
              "  const steps = uploadFilesStep(inputId, outputId);\n",
              "  const outputElement = document.getElementById(outputId);\n",
              "  // Cache steps on the outputElement to make it available for the next call\n",
              "  // to uploadFilesContinue from Python.\n",
              "  outputElement.steps = steps;\n",
              "\n",
              "  return _uploadFilesContinue(outputId);\n",
              "}\n",
              "\n",
              "// This is roughly an async generator (not supported in the browser yet),\n",
              "// where there are multiple asynchronous steps and the Python side is going\n",
              "// to poll for completion of each step.\n",
              "// This uses a Promise to block the python side on completion of each step,\n",
              "// then passes the result of the previous step as the input to the next step.\n",
              "function _uploadFilesContinue(outputId) {\n",
              "  const outputElement = document.getElementById(outputId);\n",
              "  const steps = outputElement.steps;\n",
              "\n",
              "  const next = steps.next(outputElement.lastPromiseValue);\n",
              "  return Promise.resolve(next.value.promise).then((value) => {\n",
              "    // Cache the last promise value to make it available to the next\n",
              "    // step of the generator.\n",
              "    outputElement.lastPromiseValue = value;\n",
              "    return next.value.response;\n",
              "  });\n",
              "}\n",
              "\n",
              "/**\n",
              " * Generator function which is called between each async step of the upload\n",
              " * process.\n",
              " * @param {string} inputId Element ID of the input file picker element.\n",
              " * @param {string} outputId Element ID of the output display.\n",
              " * @return {!Iterable<!Object>} Iterable of next steps.\n",
              " */\n",
              "function* uploadFilesStep(inputId, outputId) {\n",
              "  const inputElement = document.getElementById(inputId);\n",
              "  inputElement.disabled = false;\n",
              "\n",
              "  const outputElement = document.getElementById(outputId);\n",
              "  outputElement.innerHTML = '';\n",
              "\n",
              "  const pickedPromise = new Promise((resolve) => {\n",
              "    inputElement.addEventListener('change', (e) => {\n",
              "      resolve(e.target.files);\n",
              "    });\n",
              "  });\n",
              "\n",
              "  const cancel = document.createElement('button');\n",
              "  inputElement.parentElement.appendChild(cancel);\n",
              "  cancel.textContent = 'Cancel upload';\n",
              "  const cancelPromise = new Promise((resolve) => {\n",
              "    cancel.onclick = () => {\n",
              "      resolve(null);\n",
              "    };\n",
              "  });\n",
              "\n",
              "  // Wait for the user to pick the files.\n",
              "  const files = yield {\n",
              "    promise: Promise.race([pickedPromise, cancelPromise]),\n",
              "    response: {\n",
              "      action: 'starting',\n",
              "    }\n",
              "  };\n",
              "\n",
              "  cancel.remove();\n",
              "\n",
              "  // Disable the input element since further picks are not allowed.\n",
              "  inputElement.disabled = true;\n",
              "\n",
              "  if (!files) {\n",
              "    return {\n",
              "      response: {\n",
              "        action: 'complete',\n",
              "      }\n",
              "    };\n",
              "  }\n",
              "\n",
              "  for (const file of files) {\n",
              "    const li = document.createElement('li');\n",
              "    li.append(span(file.name, {fontWeight: 'bold'}));\n",
              "    li.append(span(\n",
              "        `(${file.type || 'n/a'}) - ${file.size} bytes, ` +\n",
              "        `last modified: ${\n",
              "            file.lastModifiedDate ? file.lastModifiedDate.toLocaleDateString() :\n",
              "                                    'n/a'} - `));\n",
              "    const percent = span('0% done');\n",
              "    li.appendChild(percent);\n",
              "\n",
              "    outputElement.appendChild(li);\n",
              "\n",
              "    const fileDataPromise = new Promise((resolve) => {\n",
              "      const reader = new FileReader();\n",
              "      reader.onload = (e) => {\n",
              "        resolve(e.target.result);\n",
              "      };\n",
              "      reader.readAsArrayBuffer(file);\n",
              "    });\n",
              "    // Wait for the data to be ready.\n",
              "    let fileData = yield {\n",
              "      promise: fileDataPromise,\n",
              "      response: {\n",
              "        action: 'continue',\n",
              "      }\n",
              "    };\n",
              "\n",
              "    // Use a chunked sending to avoid message size limits. See b/62115660.\n",
              "    let position = 0;\n",
              "    do {\n",
              "      const length = Math.min(fileData.byteLength - position, MAX_PAYLOAD_SIZE);\n",
              "      const chunk = new Uint8Array(fileData, position, length);\n",
              "      position += length;\n",
              "\n",
              "      const base64 = btoa(String.fromCharCode.apply(null, chunk));\n",
              "      yield {\n",
              "        response: {\n",
              "          action: 'append',\n",
              "          file: file.name,\n",
              "          data: base64,\n",
              "        },\n",
              "      };\n",
              "\n",
              "      let percentDone = fileData.byteLength === 0 ?\n",
              "          100 :\n",
              "          Math.round((position / fileData.byteLength) * 100);\n",
              "      percent.textContent = `${percentDone}% done`;\n",
              "\n",
              "    } while (position < fileData.byteLength);\n",
              "  }\n",
              "\n",
              "  // All done.\n",
              "  yield {\n",
              "    response: {\n",
              "      action: 'complete',\n",
              "    }\n",
              "  };\n",
              "}\n",
              "\n",
              "scope.google = scope.google || {};\n",
              "scope.google.colab = scope.google.colab || {};\n",
              "scope.google.colab._files = {\n",
              "  _uploadFiles,\n",
              "  _uploadFilesContinue,\n",
              "};\n",
              "})(self);\n",
              "</script> "
            ]
          },
          "metadata": {}
        },
        {
          "output_type": "stream",
          "name": "stdout",
          "text": [
            "Saving MLOps Final Exam (Solution)(Spring-2023).pdf to MLOps Final Exam (Solution)(Spring-2023).pdf\n",
            "download https://paddleocr.bj.bcebos.com/PP-OCRv3/english/en_PP-OCRv3_det_infer.tar to /root/.paddleocr/whl/det/en/en_PP-OCRv3_det_infer/en_PP-OCRv3_det_infer.tar\n"
          ]
        },
        {
          "output_type": "stream",
          "name": "stderr",
          "text": [
            "100%|██████████| 4.00M/4.00M [00:17<00:00, 234kiB/s] \n"
          ]
        },
        {
          "output_type": "stream",
          "name": "stdout",
          "text": [
            "download https://paddleocr.bj.bcebos.com/PP-OCRv4/english/en_PP-OCRv4_rec_infer.tar to /root/.paddleocr/whl/rec/en/en_PP-OCRv4_rec_infer/en_PP-OCRv4_rec_infer.tar\n"
          ]
        },
        {
          "output_type": "stream",
          "name": "stderr",
          "text": [
            "100%|██████████| 10.2M/10.2M [00:18<00:00, 542kiB/s] \n"
          ]
        },
        {
          "output_type": "stream",
          "name": "stdout",
          "text": [
            "download https://paddleocr.bj.bcebos.com/dygraph_v2.0/ch/ch_ppocr_mobile_v2.0_cls_infer.tar to /root/.paddleocr/whl/cls/ch_ppocr_mobile_v2.0_cls_infer/ch_ppocr_mobile_v2.0_cls_infer.tar\n"
          ]
        },
        {
          "output_type": "stream",
          "name": "stderr",
          "text": [
            "100%|██████████| 2.19M/2.19M [00:16<00:00, 135kiB/s]"
          ]
        },
        {
          "output_type": "stream",
          "name": "stdout",
          "text": [
            "[2025/06/22 21:47:55] ppocr DEBUG: Namespace(help='==SUPPRESS==', use_gpu=False, use_xpu=False, use_npu=False, use_mlu=False, ir_optim=True, use_tensorrt=False, min_subgraph_size=15, precision='fp32', gpu_mem=500, gpu_id=0, image_dir=None, page_num=0, det_algorithm='DB', det_model_dir='/root/.paddleocr/whl/det/en/en_PP-OCRv3_det_infer', det_limit_side_len=960, det_limit_type='max', det_box_type='quad', det_db_thresh=0.3, det_db_box_thresh=0.6, det_db_unclip_ratio=1.5, max_batch_size=10, use_dilation=False, det_db_score_mode='fast', det_east_score_thresh=0.8, det_east_cover_thresh=0.1, det_east_nms_thresh=0.2, det_sast_score_thresh=0.5, det_sast_nms_thresh=0.2, det_pse_thresh=0, det_pse_box_thresh=0.85, det_pse_min_area=16, det_pse_scale=1, scales=[8, 16, 32], alpha=1.0, beta=1.0, fourier_degree=5, rec_algorithm='SVTR_LCNet', rec_model_dir='/root/.paddleocr/whl/rec/en/en_PP-OCRv4_rec_infer', rec_image_inverse=True, rec_image_shape='3, 48, 320', rec_batch_num=6, max_text_length=25, rec_char_dict_path='/usr/local/lib/python3.11/dist-packages/paddleocr/ppocr/utils/en_dict.txt', use_space_char=True, vis_font_path='./doc/fonts/simfang.ttf', drop_score=0.5, e2e_algorithm='PGNet', e2e_model_dir=None, e2e_limit_side_len=768, e2e_limit_type='max', e2e_pgnet_score_thresh=0.5, e2e_char_dict_path='./ppocr/utils/ic15_dict.txt', e2e_pgnet_valid_set='totaltext', e2e_pgnet_mode='fast', use_angle_cls=True, cls_model_dir='/root/.paddleocr/whl/cls/ch_ppocr_mobile_v2.0_cls_infer', cls_image_shape='3, 48, 192', label_list=['0', '180'], cls_batch_num=6, cls_thresh=0.9, enable_mkldnn=False, cpu_threads=10, use_pdserving=False, warmup=False, sr_model_dir=None, sr_image_shape='3, 32, 128', sr_batch_num=1, draw_img_save_dir='./inference_results', save_crop_res=False, crop_res_save_dir='./output', use_mp=False, total_process_num=1, process_id=0, benchmark=False, save_log_path='./log_output/', show_log=True, use_onnx=False, return_word_box=False, output='./output', table_max_len=488, table_algorithm='TableAttn', table_model_dir=None, merge_no_span_structure=True, table_char_dict_path=None, layout_model_dir=None, layout_dict_path=None, layout_score_threshold=0.5, layout_nms_threshold=0.5, kie_algorithm='LayoutXLM', ser_model_dir=None, re_model_dir=None, use_visual_backbone=True, ser_dict_path='../train_data/XFUND/class_list_xfun.txt', ocr_order_method=None, mode='structure', image_orientation=False, layout=True, table=True, ocr=True, recovery=False, use_pdf2docx_api=False, invert=False, binarize=False, alphacolor=(255, 255, 255), lang='en', det=True, rec=True, type='ocr', savefile=False, ocr_version='PP-OCRv4', structure_version='PP-StructureV2')\n"
          ]
        },
        {
          "output_type": "stream",
          "name": "stderr",
          "text": [
            "\n"
          ]
        },
        {
          "output_type": "stream",
          "name": "stdout",
          "text": [
            "\n",
            "📄 Processing PDF: MLOps Final Exam (Solution)(Spring-2023).pdf\n",
            "   📃 Page 1\n",
            "[2025/06/22 21:48:19] ppocr DEBUG: dt_boxes num : 45, elapsed : 0.5992431640625\n",
            "[2025/06/22 21:48:19] ppocr DEBUG: cls num  : 45, elapsed : 0.17390918731689453\n",
            "[2025/06/22 21:48:25] ppocr DEBUG: rec_res num  : 45, elapsed : 5.953069448471069\n",
            "   📃 Page 2\n",
            "[2025/06/22 21:48:36] ppocr DEBUG: dt_boxes num : 42, elapsed : 0.25591540336608887\n",
            "[2025/06/22 21:48:36] ppocr DEBUG: cls num  : 42, elapsed : 0.18630480766296387\n",
            "[2025/06/22 21:48:53] ppocr DEBUG: rec_res num  : 42, elapsed : 17.3131046295166\n",
            "   📃 Page 3\n",
            "[2025/06/22 21:49:05] ppocr DEBUG: dt_boxes num : 53, elapsed : 0.3988921642303467\n",
            "[2025/06/22 21:49:05] ppocr DEBUG: cls num  : 53, elapsed : 0.1772761344909668\n",
            "[2025/06/22 21:49:11] ppocr DEBUG: rec_res num  : 53, elapsed : 5.8791844844818115\n",
            "   📃 Page 4\n",
            "[2025/06/22 21:49:23] ppocr DEBUG: dt_boxes num : 50, elapsed : 0.25315427780151367\n",
            "[2025/06/22 21:49:24] ppocr DEBUG: cls num  : 50, elapsed : 0.17092061042785645\n",
            "[2025/06/22 21:49:34] ppocr DEBUG: rec_res num  : 50, elapsed : 10.171103954315186\n",
            "   📃 Page 5\n",
            "[2025/06/22 21:49:46] ppocr DEBUG: dt_boxes num : 39, elapsed : 0.2700076103210449\n",
            "[2025/06/22 21:49:46] ppocr DEBUG: cls num  : 39, elapsed : 0.12442898750305176\n",
            "[2025/06/22 21:49:55] ppocr DEBUG: rec_res num  : 39, elapsed : 9.195778846740723\n",
            "   📃 Page 6\n",
            "[2025/06/22 21:50:07] ppocr DEBUG: dt_boxes num : 69, elapsed : 0.2669827938079834\n",
            "[2025/06/22 21:50:07] ppocr DEBUG: cls num  : 69, elapsed : 0.18973755836486816\n",
            "[2025/06/22 21:50:14] ppocr DEBUG: rec_res num  : 69, elapsed : 7.438724040985107\n",
            "   📃 Page 7\n",
            "[2025/06/22 21:50:26] ppocr DEBUG: dt_boxes num : 48, elapsed : 0.2556478977203369\n",
            "[2025/06/22 21:50:26] ppocr DEBUG: cls num  : 48, elapsed : 0.1368570327758789\n",
            "[2025/06/22 21:50:35] ppocr DEBUG: rec_res num  : 48, elapsed : 8.364009380340576\n",
            "   📃 Page 8\n",
            "[2025/06/22 21:50:47] ppocr DEBUG: dt_boxes num : 46, elapsed : 0.2730231285095215\n",
            "[2025/06/22 21:50:47] ppocr DEBUG: cls num  : 46, elapsed : 0.16764283180236816\n",
            "[2025/06/22 21:50:58] ppocr DEBUG: rec_res num  : 46, elapsed : 10.929452180862427\n",
            "   📃 Page 9\n",
            "[2025/06/22 21:51:10] ppocr DEBUG: dt_boxes num : 56, elapsed : 0.26159048080444336\n",
            "[2025/06/22 21:51:10] ppocr DEBUG: cls num  : 56, elapsed : 0.20518231391906738\n",
            "[2025/06/22 21:51:16] ppocr DEBUG: rec_res num  : 56, elapsed : 6.498225212097168\n",
            "   📃 Page 10\n",
            "[2025/06/22 21:51:27] ppocr DEBUG: dt_boxes num : 65, elapsed : 0.2543065547943115\n",
            "[2025/06/22 21:51:27] ppocr DEBUG: cls num  : 65, elapsed : 0.20214128494262695\n",
            "[2025/06/22 21:51:35] ppocr DEBUG: rec_res num  : 65, elapsed : 7.559864044189453\n",
            "   📃 Page 11\n",
            "[2025/06/22 21:51:47] ppocr DEBUG: dt_boxes num : 83, elapsed : 0.273409366607666\n",
            "[2025/06/22 21:51:47] ppocr DEBUG: cls num  : 83, elapsed : 0.23881101608276367\n",
            "[2025/06/22 21:51:57] ppocr DEBUG: rec_res num  : 83, elapsed : 9.90575385093689\n",
            "   📃 Page 12\n",
            "[2025/06/22 21:52:08] ppocr DEBUG: dt_boxes num : 84, elapsed : 0.4177584648132324\n",
            "[2025/06/22 21:52:08] ppocr DEBUG: cls num  : 84, elapsed : 0.3308587074279785\n",
            "[2025/06/22 21:52:15] ppocr DEBUG: rec_res num  : 84, elapsed : 6.770877122879028\n",
            "   📃 Page 13\n",
            "[2025/06/22 21:52:27] ppocr DEBUG: dt_boxes num : 61, elapsed : 0.26465559005737305\n",
            "[2025/06/22 21:52:27] ppocr DEBUG: cls num  : 61, elapsed : 0.21373271942138672\n",
            "[2025/06/22 21:52:35] ppocr DEBUG: rec_res num  : 61, elapsed : 8.094166040420532\n",
            "   📃 Page 14\n",
            "[2025/06/22 21:52:46] ppocr DEBUG: dt_boxes num : 64, elapsed : 0.2643702030181885\n",
            "[2025/06/22 21:52:46] ppocr DEBUG: cls num  : 64, elapsed : 0.20653414726257324\n",
            "[2025/06/22 21:52:55] ppocr DEBUG: rec_res num  : 64, elapsed : 8.632065773010254\n",
            "   📃 Page 15\n",
            "[2025/06/22 21:53:07] ppocr DEBUG: dt_boxes num : 49, elapsed : 0.2606217861175537\n",
            "[2025/06/22 21:53:07] ppocr DEBUG: cls num  : 49, elapsed : 0.16920876502990723\n",
            "[2025/06/22 21:53:13] ppocr DEBUG: rec_res num  : 49, elapsed : 5.721344947814941\n",
            "   📃 Page 16\n",
            "[2025/06/22 21:53:25] ppocr DEBUG: dt_boxes num : 75, elapsed : 0.27161407470703125\n",
            "[2025/06/22 21:53:25] ppocr DEBUG: cls num  : 75, elapsed : 0.24832534790039062\n",
            "[2025/06/22 21:53:34] ppocr DEBUG: rec_res num  : 75, elapsed : 8.9171621799469\n",
            "   📃 Page 17\n",
            "[2025/06/22 21:53:46] ppocr DEBUG: dt_boxes num : 67, elapsed : 0.2802619934082031\n",
            "[2025/06/22 21:53:46] ppocr DEBUG: cls num  : 67, elapsed : 0.24628353118896484\n",
            "[2025/06/22 21:53:57] ppocr DEBUG: rec_res num  : 67, elapsed : 11.059733152389526\n",
            "   📃 Page 18\n",
            "[2025/06/22 21:54:09] ppocr DEBUG: dt_boxes num : 51, elapsed : 0.5460338592529297\n",
            "[2025/06/22 21:54:09] ppocr DEBUG: cls num  : 51, elapsed : 0.21927189826965332\n",
            "[2025/06/22 21:54:16] ppocr DEBUG: rec_res num  : 51, elapsed : 7.243257999420166\n",
            "\n",
            "✅ All PDFs processed. Combined chunked data saved.\n"
          ]
        },
        {
          "output_type": "display_data",
          "data": {
            "text/plain": [
              "<IPython.core.display.Javascript object>"
            ],
            "application/javascript": [
              "\n",
              "    async function download(id, filename, size) {\n",
              "      if (!google.colab.kernel.accessAllowed) {\n",
              "        return;\n",
              "      }\n",
              "      const div = document.createElement('div');\n",
              "      const label = document.createElement('label');\n",
              "      label.textContent = `Downloading \"${filename}\": `;\n",
              "      div.appendChild(label);\n",
              "      const progress = document.createElement('progress');\n",
              "      progress.max = size;\n",
              "      div.appendChild(progress);\n",
              "      document.body.appendChild(div);\n",
              "\n",
              "      const buffers = [];\n",
              "      let downloaded = 0;\n",
              "\n",
              "      const channel = await google.colab.kernel.comms.open(id);\n",
              "      // Send a message to notify the kernel that we're ready.\n",
              "      channel.send({})\n",
              "\n",
              "      for await (const message of channel.messages) {\n",
              "        // Send a message to notify the kernel that we're ready.\n",
              "        channel.send({})\n",
              "        if (message.buffers) {\n",
              "          for (const buffer of message.buffers) {\n",
              "            buffers.push(buffer);\n",
              "            downloaded += buffer.byteLength;\n",
              "            progress.value = downloaded;\n",
              "          }\n",
              "        }\n",
              "      }\n",
              "      const blob = new Blob(buffers, {type: 'application/binary'});\n",
              "      const a = document.createElement('a');\n",
              "      a.href = window.URL.createObjectURL(blob);\n",
              "      a.download = filename;\n",
              "      div.appendChild(a);\n",
              "      a.click();\n",
              "      div.remove();\n",
              "    }\n",
              "  "
            ]
          },
          "metadata": {}
        },
        {
          "output_type": "display_data",
          "data": {
            "text/plain": [
              "<IPython.core.display.Javascript object>"
            ],
            "application/javascript": [
              "download(\"download_19473904-9450-41dd-8d7d-70d1ed2f519f\", \"parsed_output_chunked.json\", 64540)"
            ]
          },
          "metadata": {}
        }
      ]
    },
    {
      "cell_type": "markdown",
      "source": [
        "# Embeddings generated and stored in FAISS"
      ],
      "metadata": {
        "id": "24vzVxz2fL1e"
      }
    },
    {
      "cell_type": "code",
      "source": [
        "import os\n",
        "import re\n",
        "import json\n",
        "from google.colab import files\n",
        "\n",
        "import faiss\n",
        "import numpy as np\n",
        "import torch\n",
        "import clip\n",
        "from tqdm import tqdm\n",
        "from PIL import Image\n",
        "from sentence_transformers import SentenceTransformer\n",
        "\n",
        "# ── 1. Load chunked JSON for all uploaded PDFs ────────────────────────────────\n",
        "with open(\"parsed_output_chunked.json\", \"r\", encoding=\"utf-8\") as f:\n",
        "    data = json.load(f)\n",
        "\n",
        "# ── 2. Initialize models once ────────────────────────────────────────────────\n",
        "text_model = SentenceTransformer('all-MiniLM-L6-v2')\n",
        "device = \"cuda\" if torch.cuda.is_available() else \"cpu\"\n",
        "clip_model, clip_preprocess = clip.load(\"ViT-B/32\", device=device)\n",
        "\n",
        "# ── 3. Embed all text/OCR chunks into one FAISS index ─────────────────────────\n",
        "text_embeddings = []\n",
        "text_metadata   = []\n",
        "\n",
        "print(\"\\n🔤 Embedding text + OCR chunks…\")\n",
        "for entry in tqdm(data, desc=\"Text/OCR chunks\"):\n",
        "    if entry[\"type\"] in (\"text\",\"image\"):\n",
        "        emb = text_model.encode(entry[\"content\"], normalize_embeddings=True)\n",
        "        text_embeddings.append(emb.astype(np.float32))\n",
        "        text_metadata.append(entry)\n",
        "\n",
        "if text_embeddings:\n",
        "    dim = text_embeddings[0].shape[-1]\n",
        "    t_index = faiss.IndexFlatL2(dim)\n",
        "    t_index.add(np.stack(text_embeddings))\n",
        "    faiss.write_index(t_index, \"textual_index.faiss\")\n",
        "\n",
        "    with open(\"textual_metadata.json\", \"w\", encoding=\"utf-8\") as f:\n",
        "        json.dump(text_metadata, f, indent=2, ensure_ascii=False)\n",
        "\n",
        "    print(f\"💾 Saved textual_index.faiss ({len(text_embeddings)} vectors) + textual_metadata.json\")\n",
        "else:\n",
        "    print(\"⚠️ No text/OCR chunks found—skipping textual index.\")\n",
        "\n",
        "# ── 4. Embed all full‐page images into one FAISS index ────────────────────────\n",
        "image_embeddings = []\n",
        "image_metadata   = []\n",
        "\n",
        "print(\"\\n🖼 Embedding full-page images…\")\n",
        "for img_fn in tqdm(os.listdir(), desc=\"Page images\"):\n",
        "    m = re.match(r\"page_(\\d+)_(.+)\\.png$\", img_fn)\n",
        "    if not m:\n",
        "        continue\n",
        "    page_num, source_pdf = int(m.group(1)), m.group(2)\n",
        "\n",
        "    # load & preprocess for CLIP\n",
        "    img = Image.open(img_fn).convert(\"RGB\")\n",
        "    inp = clip_preprocess(img).unsqueeze(0).to(device)\n",
        "    with torch.no_grad():\n",
        "        feat = clip_model.encode_image(inp)\n",
        "        feat = feat / feat.norm(dim=-1, keepdim=True)\n",
        "\n",
        "    image_embeddings.append(feat.cpu().numpy().flatten().astype(np.float32))\n",
        "    image_metadata.append({\n",
        "        \"page\":     page_num,\n",
        "        \"filename\": img_fn,\n",
        "        \"source\":   source_pdf\n",
        "    })\n",
        "\n",
        "if image_embeddings:\n",
        "    dim = image_embeddings[0].shape[0]\n",
        "    i_index = faiss.IndexFlatL2(dim)\n",
        "    i_index.add(np.stack(image_embeddings))\n",
        "    faiss.write_index(i_index, \"image_clip_index.faiss\")\n",
        "\n",
        "    with open(\"image_clip_metadata.json\", \"w\", encoding=\"utf-8\") as f:\n",
        "        json.dump(image_metadata, f, indent=2, ensure_ascii=False)\n",
        "\n",
        "    print(f\"💾 Saved image_clip_index.faiss ({len(image_embeddings)} vectors) + image_clip_metadata.json\")\n",
        "else:\n",
        "    print(\"⚠️ No page images found—skipping image CLIP index.\")\n",
        "\n",
        "print(\"\\n✅ All embedding indexes and metadata written.\")\n",
        "\n",
        "files.download(\"image_clip_index.faiss\")\n",
        "\n",
        "files.download(\"image_clip_metadata.json\")\n",
        "\n",
        "files.download(\"textual_metadata.json\")\n",
        "files.download(\"textual_index.faiss\")\n",
        "\n"
      ],
      "metadata": {
        "colab": {
          "base_uri": "https://localhost:8080/",
          "height": 245
        },
        "id": "qVB5dfFUMYGJ",
        "outputId": "cff5ece2-3498-4f1f-caff-1babbdc24b32"
      },
      "execution_count": 4,
      "outputs": [
        {
          "output_type": "stream",
          "name": "stderr",
          "text": [
            "/usr/local/lib/python3.11/dist-packages/huggingface_hub/file_download.py:943: FutureWarning: `resume_download` is deprecated and will be removed in version 1.0.0. Downloads always resume when possible. If you want to force a new download, use `force_download=True`.\n",
            "  warnings.warn(\n"
          ]
        },
        {
          "output_type": "stream",
          "name": "stdout",
          "text": [
            "\n",
            "🔤 Embedding text + OCR chunks…\n"
          ]
        },
        {
          "output_type": "stream",
          "name": "stderr",
          "text": [
            "Text/OCR chunks: 100%|██████████| 124/124 [00:07<00:00, 16.47it/s]\n"
          ]
        },
        {
          "output_type": "stream",
          "name": "stdout",
          "text": [
            "💾 Saved textual_index.faiss (124 vectors) + textual_metadata.json\n",
            "\n",
            "🖼 Embedding full-page images…\n"
          ]
        },
        {
          "output_type": "stream",
          "name": "stderr",
          "text": [
            "Page images: 100%|██████████| 26/26 [00:08<00:00,  3.00it/s]"
          ]
        },
        {
          "output_type": "stream",
          "name": "stdout",
          "text": [
            "💾 Saved image_clip_index.faiss (18 vectors) + image_clip_metadata.json\n",
            "\n",
            "✅ All embedding indexes and metadata written.\n"
          ]
        },
        {
          "output_type": "stream",
          "name": "stderr",
          "text": [
            "\n"
          ]
        },
        {
          "output_type": "display_data",
          "data": {
            "text/plain": [
              "<IPython.core.display.Javascript object>"
            ],
            "application/javascript": [
              "\n",
              "    async function download(id, filename, size) {\n",
              "      if (!google.colab.kernel.accessAllowed) {\n",
              "        return;\n",
              "      }\n",
              "      const div = document.createElement('div');\n",
              "      const label = document.createElement('label');\n",
              "      label.textContent = `Downloading \"${filename}\": `;\n",
              "      div.appendChild(label);\n",
              "      const progress = document.createElement('progress');\n",
              "      progress.max = size;\n",
              "      div.appendChild(progress);\n",
              "      document.body.appendChild(div);\n",
              "\n",
              "      const buffers = [];\n",
              "      let downloaded = 0;\n",
              "\n",
              "      const channel = await google.colab.kernel.comms.open(id);\n",
              "      // Send a message to notify the kernel that we're ready.\n",
              "      channel.send({})\n",
              "\n",
              "      for await (const message of channel.messages) {\n",
              "        // Send a message to notify the kernel that we're ready.\n",
              "        channel.send({})\n",
              "        if (message.buffers) {\n",
              "          for (const buffer of message.buffers) {\n",
              "            buffers.push(buffer);\n",
              "            downloaded += buffer.byteLength;\n",
              "            progress.value = downloaded;\n",
              "          }\n",
              "        }\n",
              "      }\n",
              "      const blob = new Blob(buffers, {type: 'application/binary'});\n",
              "      const a = document.createElement('a');\n",
              "      a.href = window.URL.createObjectURL(blob);\n",
              "      a.download = filename;\n",
              "      div.appendChild(a);\n",
              "      a.click();\n",
              "      div.remove();\n",
              "    }\n",
              "  "
            ]
          },
          "metadata": {}
        },
        {
          "output_type": "display_data",
          "data": {
            "text/plain": [
              "<IPython.core.display.Javascript object>"
            ],
            "application/javascript": [
              "download(\"download_299b97d1-08ea-44cc-9f71-44ac9703325e\", \"image_clip_index.faiss\", 36909)"
            ]
          },
          "metadata": {}
        },
        {
          "output_type": "display_data",
          "data": {
            "text/plain": [
              "<IPython.core.display.Javascript object>"
            ],
            "application/javascript": [
              "\n",
              "    async function download(id, filename, size) {\n",
              "      if (!google.colab.kernel.accessAllowed) {\n",
              "        return;\n",
              "      }\n",
              "      const div = document.createElement('div');\n",
              "      const label = document.createElement('label');\n",
              "      label.textContent = `Downloading \"${filename}\": `;\n",
              "      div.appendChild(label);\n",
              "      const progress = document.createElement('progress');\n",
              "      progress.max = size;\n",
              "      div.appendChild(progress);\n",
              "      document.body.appendChild(div);\n",
              "\n",
              "      const buffers = [];\n",
              "      let downloaded = 0;\n",
              "\n",
              "      const channel = await google.colab.kernel.comms.open(id);\n",
              "      // Send a message to notify the kernel that we're ready.\n",
              "      channel.send({})\n",
              "\n",
              "      for await (const message of channel.messages) {\n",
              "        // Send a message to notify the kernel that we're ready.\n",
              "        channel.send({})\n",
              "        if (message.buffers) {\n",
              "          for (const buffer of message.buffers) {\n",
              "            buffers.push(buffer);\n",
              "            downloaded += buffer.byteLength;\n",
              "            progress.value = downloaded;\n",
              "          }\n",
              "        }\n",
              "      }\n",
              "      const blob = new Blob(buffers, {type: 'application/binary'});\n",
              "      const a = document.createElement('a');\n",
              "      a.href = window.URL.createObjectURL(blob);\n",
              "      a.download = filename;\n",
              "      div.appendChild(a);\n",
              "      a.click();\n",
              "      div.remove();\n",
              "    }\n",
              "  "
            ]
          },
          "metadata": {}
        },
        {
          "output_type": "display_data",
          "data": {
            "text/plain": [
              "<IPython.core.display.Javascript object>"
            ],
            "application/javascript": [
              "download(\"download_fe14525d-031e-49d2-8d9d-02b6d65de222\", \"image_clip_metadata.json\", 2900)"
            ]
          },
          "metadata": {}
        },
        {
          "output_type": "display_data",
          "data": {
            "text/plain": [
              "<IPython.core.display.Javascript object>"
            ],
            "application/javascript": [
              "\n",
              "    async function download(id, filename, size) {\n",
              "      if (!google.colab.kernel.accessAllowed) {\n",
              "        return;\n",
              "      }\n",
              "      const div = document.createElement('div');\n",
              "      const label = document.createElement('label');\n",
              "      label.textContent = `Downloading \"${filename}\": `;\n",
              "      div.appendChild(label);\n",
              "      const progress = document.createElement('progress');\n",
              "      progress.max = size;\n",
              "      div.appendChild(progress);\n",
              "      document.body.appendChild(div);\n",
              "\n",
              "      const buffers = [];\n",
              "      let downloaded = 0;\n",
              "\n",
              "      const channel = await google.colab.kernel.comms.open(id);\n",
              "      // Send a message to notify the kernel that we're ready.\n",
              "      channel.send({})\n",
              "\n",
              "      for await (const message of channel.messages) {\n",
              "        // Send a message to notify the kernel that we're ready.\n",
              "        channel.send({})\n",
              "        if (message.buffers) {\n",
              "          for (const buffer of message.buffers) {\n",
              "            buffers.push(buffer);\n",
              "            downloaded += buffer.byteLength;\n",
              "            progress.value = downloaded;\n",
              "          }\n",
              "        }\n",
              "      }\n",
              "      const blob = new Blob(buffers, {type: 'application/binary'});\n",
              "      const a = document.createElement('a');\n",
              "      a.href = window.URL.createObjectURL(blob);\n",
              "      a.download = filename;\n",
              "      div.appendChild(a);\n",
              "      a.click();\n",
              "      div.remove();\n",
              "    }\n",
              "  "
            ]
          },
          "metadata": {}
        },
        {
          "output_type": "display_data",
          "data": {
            "text/plain": [
              "<IPython.core.display.Javascript object>"
            ],
            "application/javascript": [
              "download(\"download_483e7d3f-670c-4af8-9a5a-f074f78b41d6\", \"textual_metadata.json\", 64540)"
            ]
          },
          "metadata": {}
        },
        {
          "output_type": "display_data",
          "data": {
            "text/plain": [
              "<IPython.core.display.Javascript object>"
            ],
            "application/javascript": [
              "\n",
              "    async function download(id, filename, size) {\n",
              "      if (!google.colab.kernel.accessAllowed) {\n",
              "        return;\n",
              "      }\n",
              "      const div = document.createElement('div');\n",
              "      const label = document.createElement('label');\n",
              "      label.textContent = `Downloading \"${filename}\": `;\n",
              "      div.appendChild(label);\n",
              "      const progress = document.createElement('progress');\n",
              "      progress.max = size;\n",
              "      div.appendChild(progress);\n",
              "      document.body.appendChild(div);\n",
              "\n",
              "      const buffers = [];\n",
              "      let downloaded = 0;\n",
              "\n",
              "      const channel = await google.colab.kernel.comms.open(id);\n",
              "      // Send a message to notify the kernel that we're ready.\n",
              "      channel.send({})\n",
              "\n",
              "      for await (const message of channel.messages) {\n",
              "        // Send a message to notify the kernel that we're ready.\n",
              "        channel.send({})\n",
              "        if (message.buffers) {\n",
              "          for (const buffer of message.buffers) {\n",
              "            buffers.push(buffer);\n",
              "            downloaded += buffer.byteLength;\n",
              "            progress.value = downloaded;\n",
              "          }\n",
              "        }\n",
              "      }\n",
              "      const blob = new Blob(buffers, {type: 'application/binary'});\n",
              "      const a = document.createElement('a');\n",
              "      a.href = window.URL.createObjectURL(blob);\n",
              "      a.download = filename;\n",
              "      div.appendChild(a);\n",
              "      a.click();\n",
              "      div.remove();\n",
              "    }\n",
              "  "
            ]
          },
          "metadata": {}
        },
        {
          "output_type": "display_data",
          "data": {
            "text/plain": [
              "<IPython.core.display.Javascript object>"
            ],
            "application/javascript": [
              "download(\"download_96a34b9e-c6f7-4ef9-84ae-6a41a06ef1f2\", \"textual_index.faiss\", 190509)"
            ]
          },
          "metadata": {}
        }
      ]
    },
    {
      "cell_type": "markdown",
      "source": [
        "# Streamlit App Code"
      ],
      "metadata": {
        "id": "Pah8mJGm3dqb"
      }
    },
    {
      "cell_type": "code",
      "source": [
        "# 2) Write your Streamlit app to app.py\n",
        "%%bash\n",
        "cat > app.py << 'EOF'\n",
        "import streamlit as st\n",
        "import json\n",
        "import requests\n",
        "\n",
        "import faiss\n",
        "import numpy as np\n",
        "import torch\n",
        "import clip\n",
        "from PIL import Image\n",
        "from tqdm import tqdm\n",
        "from sentence_transformers import SentenceTransformer\n",
        "from google.colab import files\n",
        "\n",
        "# ── CONFIG ────────────────────────────────────────────────────────────────────\n",
        "LM_API_URL   = \"https://ce55-119-73-124-175.ngrok-free.app/v1/chat/completions\"\n",
        "LM_MODEL     = \"meta-llama-3-8b-instruct\"\n",
        "TOP_K_TEXT   = 5\n",
        "\n",
        "# ── LOAD INDEXES & METADATA ────────────────────────────────────────────────────\n",
        "text_index = faiss.read_index(\"textual_index.faiss\")\n",
        "with open(\"textual_metadata.json\", \"r\", encoding=\"utf-8\") as f:\n",
        "    text_metadata = json.load(f)\n",
        "\n",
        "image_index = faiss.read_index(\"image_clip_index.faiss\")\n",
        "with open(\"image_clip_metadata.json\", \"r\", encoding=\"utf-8\") as f:\n",
        "    image_metadata = json.load(f)\n",
        "\n",
        "# ── LOAD MODELS ────────────────────────────────────────────────────────────────\n",
        "text_model    = SentenceTransformer(\"all-MiniLM-L6-v2\")\n",
        "device        = \"cuda\" if torch.cuda.is_available() else \"cpu\"\n",
        "clip_model, clip_preproc = clip.load(\"ViT-B/32\", device=device)\n",
        "\n",
        "# ── TEXT Q&A RETRIEVAL ─────────────────────────────────────────────────────────\n",
        "def retrieve_text_context(query, top_k=TOP_K_TEXT):\n",
        "    q_emb = text_model.encode(query, normalize_embeddings=True).astype(np.float32)\n",
        "    _, I = text_index.search(np.expand_dims(q_emb,0), top_k)\n",
        "    return [ text_metadata[i] for i in I[0] ]\n",
        "\n",
        "# ── IMAGE → TEXT Q&A RETRIEVAL ────────────────────────────────────────────────\n",
        "def retrieve_context_from_image(image_path):\n",
        "    img = Image.open(image_path).convert(\"RGB\")\n",
        "    inp = clip_preproc(img).unsqueeze(0).to(device)\n",
        "    with torch.no_grad():\n",
        "        emb = clip_model.encode_image(inp)\n",
        "        emb = emb / emb.norm(dim=-1, keepdim=True)\n",
        "    emb_np = emb.cpu().numpy().astype(np.float32)\n",
        "    _, I = image_index.search(emb_np, 1)\n",
        "    idx = I[0][0]\n",
        "    page_info = image_metadata[idx]\n",
        "    page_num   = page_info[\"page\"]\n",
        "    src_pdf    = page_info[\"source\"]\n",
        "    image_chunks = [\n",
        "        ch for ch in text_metadata\n",
        "        if ch[\"type\"]   == \"image\"\n",
        "        and ch[\"source\"]== src_pdf\n",
        "        and ch[\"section\"].startswith(f\"Page {page_num},\")\n",
        "    ]\n",
        "    if image_chunks:\n",
        "        return image_chunks\n",
        "    text_chunks = [\n",
        "        ch for ch in text_metadata\n",
        "        if ch[\"type\"]   == \"text\"\n",
        "        and ch[\"source\"]== src_pdf\n",
        "        and ch[\"section\"].startswith(f\"Page {page_num},\")\n",
        "    ]\n",
        "    return text_chunks\n",
        "\n",
        "# ── LLM CALL ───────────────────────────────────────────────────────────────────\n",
        "def get_answer_from_llm(question, context_chunks):\n",
        "    ctx = \"\"\n",
        "    for ch in context_chunks:\n",
        "        page_only = ch[\"section\"].split(\",\")[0]\n",
        "        src       = ch[\"source\"]\n",
        "        content   = ch[\"content\"]\n",
        "        ctx += f\"[{src} | {page_only}]\\n{content}\\n\\n\"\n",
        "    system = \"You are a helpful assistant.\"\n",
        "    user   = (\n",
        "        \"Use the following context snippets to answer the question. \"\n",
        "        \"Always cite the PDF name and page number in your answer.\"\n",
        "        \"Answer my question as done in the following examples\"\n",
        "        \"Q: What is value of investments for 2019?\"\n",
        "        \"A: 1,200,056 Source: financials.pdf, Page: 15\"\n",
        "        \"Q: What is value of inventories for June 2018?\"\n",
        "        \"A: 522,354. Source: hbl.pdf, Page: 10\"\n",
        "        \"Dont add english text, just answer in numerical value.\\n\\n\"\n",
        "        f\"Context:\\n{ctx}\"\n",
        "        f\"Question: {question}\\n\"\n",
        "        \"Answer:\"\n",
        "    )\n",
        "    payload = {\n",
        "        \"model\": LM_MODEL,\n",
        "        \"messages\": [\n",
        "            {\"role\":\"system\", \"content\":system},\n",
        "            {\"role\":\"user\",   \"content\":user}\n",
        "        ],\n",
        "        \"temperature\":0.7,\n",
        "        \"max_tokens\":512\n",
        "    }\n",
        "    headers = {\"Content-Type\": \"application/json\"}\n",
        "    try:\n",
        "        response = requests.post(LM_API_URL, json=payload, headers=headers)\n",
        "        response.raise_for_status()\n",
        "        return response.json()[\"choices\"][0][\"message\"][\"content\"].strip()\n",
        "    except Exception as e:\n",
        "        return f\"❌ Error communicating with LLM: {e}\"\n",
        "\n",
        "# ── STREAMLIT UI ───────────────────────────────────────────────────────────────\n",
        "st.set_page_config(page_title=\"PDF & Image Q&A\", layout=\"centered\")\n",
        "st.title(\"📚 PDF & Image Q&A Chat\")\n",
        "\n",
        "mode = st.radio(\"Mode\", (\"Text Q&A\", \"Image Q&A\"))\n",
        "\n",
        "if mode == \"Text Q&A\":\n",
        "    question = st.text_input(\"Enter your question about the PDF\")\n",
        "    if st.button(\"Ask\") and question:\n",
        "        with st.spinner(\"Thinking...\"):\n",
        "            ctx = retrieve_text_context(question)\n",
        "            answer = get_answer_from_llm(question, ctx)\n",
        "        st.markdown(\"**Answer:**\")\n",
        "        st.write(answer)\n",
        "\n",
        "else:\n",
        "    uploaded = st.file_uploader(\"Upload an image\", type=[\"png\",\"jpg\",\"jpeg\"])\n",
        "    question = st.text_input(\"Enter your question about the image\")\n",
        "    if st.button(\"Ask\") and uploaded and question:\n",
        "        with st.spinner(\"Thinking...\"):\n",
        "            tmp_path = f\"/tmp/{uploaded.name}\"\n",
        "            with open(tmp_path, \"wb\") as f:\n",
        "                f.write(uploaded.getbuffer())\n",
        "            ctx = retrieve_context_from_image(tmp_path)\n",
        "            answer = get_answer_from_llm(question, ctx)\n",
        "        st.markdown(\"**Answer:**\")\n",
        "        st.write(answer)\n",
        "EOF\n"
      ],
      "metadata": {
        "id": "mbm9xptoAPfM"
      },
      "execution_count": 6,
      "outputs": []
    },
    {
      "cell_type": "markdown",
      "source": [
        "# Get Authentication Token"
      ],
      "metadata": {
        "id": "1UOak9PffrPq"
      }
    },
    {
      "cell_type": "code",
      "source": [
        "!ngrok config add-authtoken \"YOUR TOKEN\""
      ],
      "metadata": {
        "colab": {
          "base_uri": "https://localhost:8080/"
        },
        "id": "15TZTmnERlYF",
        "outputId": "d66d520a-3233-4517-87f9-b68ab06ae524"
      },
      "execution_count": 9,
      "outputs": [
        {
          "output_type": "stream",
          "name": "stdout",
          "text": [
            "Authtoken saved to configuration file: /root/.config/ngrok/ngrok.yml\n"
          ]
        }
      ]
    },
    {
      "cell_type": "markdown",
      "source": [
        "# Launch the Interface"
      ],
      "metadata": {
        "id": "-dk40nPPfCpU"
      }
    },
    {
      "cell_type": "code",
      "source": [
        "# 3) Launch Streamlit & Ngrok\n",
        "from pyngrok import ngrok\n",
        "\n",
        "# expose port 8501\n",
        "public_url = ngrok.connect(8501)\n",
        "print(\"▶️ Streamlit is live on:\", public_url)\n",
        "\n",
        "# run Streamlit in the background\n",
        "import subprocess, sys\n",
        "subprocess.Popen([sys.executable, \"-m\", \"streamlit\", \"run\", \"app.py\", \"--server.port=8501\"])\n"
      ],
      "metadata": {
        "colab": {
          "base_uri": "https://localhost:8080/"
        },
        "id": "VX9mTGN5ViSu",
        "outputId": "eb0e1d94-f0b3-46c8-f459-7fa5a8e3dde9"
      },
      "execution_count": 11,
      "outputs": [
        {
          "output_type": "stream",
          "name": "stdout",
          "text": [
            "▶️ Streamlit is live on: NgrokTunnel: \"https://bfd2-34-169-94-240.ngrok-free.app\" -> \"http://localhost:8501\"\n"
          ]
        },
        {
          "output_type": "execute_result",
          "data": {
            "text/plain": [
              "<Popen: returncode: None args: ['/usr/bin/python3', '-m', 'streamlit', 'run'...>"
            ]
          },
          "metadata": {},
          "execution_count": 11
        }
      ]
    },
    {
      "cell_type": "code",
      "source": [],
      "metadata": {
        "id": "BkRUiH_s3rLt"
      },
      "execution_count": null,
      "outputs": []
    }
  ]
}